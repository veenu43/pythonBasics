{
 "cells": [
  {
   "cell_type": "code",
   "execution_count": 173,
   "metadata": {
    "collapsed": true
   },
   "outputs": [],
   "source": []
  },
  {
   "cell_type": "code",
   "execution_count": 174,
   "outputs": [],
   "source": [
    "import pandas as pd\n",
    "import numpy as np\n",
    "\n",
    "nasdaqFile = \"inputFile/nasdaq.csv\"\n",
    "usoFile = \"inputFile/uso.csv\"\n",
    "googFile = \"inputFile/goog.csv\"\n",
    "xomFile = \"inputFile/xom.csv\""
   ],
   "metadata": {
    "collapsed": false,
    "pycharm": {
     "name": "#%%\n"
    }
   }
  },
  {
   "cell_type": "code",
   "execution_count": 175,
   "outputs": [],
   "source": [
    "def readFile(filename):\n",
    "    data = pd.read_csv(filename, sep=\",\", usecols=[0, 6], names=['Date', 'Price'], header=0)\n",
    "    # print(data.head())\n",
    "    returns = np.array(data['Price'][:-1], np.float32) / np.array(data['Price'][1:], np.float32) - 1\n",
    "    data[\"Returns\"] = np.append(returns, np.nan)\n",
    "    #print(data.head())\n",
    "    return data"
   ],
   "metadata": {
    "collapsed": false,
    "pycharm": {
     "name": "#%%\n"
    }
   }
  },
  {
   "cell_type": "code",
   "execution_count": 176,
   "outputs": [
    {
     "data": {
      "text/plain": "         Date    Price   Returns\n0  2017-03-31  1401900 -0.161292\n1  2017-04-03  1671500  0.598909\n2  2017-04-04  1045400 -0.327847\n3  2017-04-05  1555300  0.239876\n4  2017-04-06  1254400  0.186418",
      "text/html": "<div>\n<style scoped>\n    .dataframe tbody tr th:only-of-type {\n        vertical-align: middle;\n    }\n\n    .dataframe tbody tr th {\n        vertical-align: top;\n    }\n\n    .dataframe thead th {\n        text-align: right;\n    }\n</style>\n<table border=\"1\" class=\"dataframe\">\n  <thead>\n    <tr style=\"text-align: right;\">\n      <th></th>\n      <th>Date</th>\n      <th>Price</th>\n      <th>Returns</th>\n    </tr>\n  </thead>\n  <tbody>\n    <tr>\n      <th>0</th>\n      <td>2017-03-31</td>\n      <td>1401900</td>\n      <td>-0.161292</td>\n    </tr>\n    <tr>\n      <th>1</th>\n      <td>2017-04-03</td>\n      <td>1671500</td>\n      <td>0.598909</td>\n    </tr>\n    <tr>\n      <th>2</th>\n      <td>2017-04-04</td>\n      <td>1045400</td>\n      <td>-0.327847</td>\n    </tr>\n    <tr>\n      <th>3</th>\n      <td>2017-04-05</td>\n      <td>1555300</td>\n      <td>0.239876</td>\n    </tr>\n    <tr>\n      <th>4</th>\n      <td>2017-04-06</td>\n      <td>1254400</td>\n      <td>0.186418</td>\n    </tr>\n  </tbody>\n</table>\n</div>"
     },
     "execution_count": 176,
     "metadata": {},
     "output_type": "execute_result"
    }
   ],
   "source": [
    "googData = readFile(googFile)\n",
    "usoData = readFile(usoFile)\n",
    "nasdaqData = readFile(nasdaqFile)\n",
    "xomData = readFile(xomFile)\n",
    "googData.head()\n"
   ],
   "metadata": {
    "collapsed": false,
    "pycharm": {
     "name": "#%%\n"
    }
   }
  },
  {
   "cell_type": "code",
   "execution_count": 177,
   "outputs": [],
   "source": [
    "\n",
    "yData = nasdaqData[\"Returns\"][0:-1].values.reshape(-1,1)\n",
    "xData = googData[\"Returns\"][0:-1].values.reshape(-1,1)\n"
   ],
   "metadata": {
    "collapsed": false,
    "pycharm": {
     "name": "#%%\n"
    }
   }
  },
  {
   "cell_type": "code",
   "execution_count": 178,
   "outputs": [
    {
     "data": {
      "text/plain": "array([[ 0.02621078],\n       [ 0.03538001],\n       [-0.18763971],\n       ...,\n       [ 0.09196401],\n       [-0.15679216],\n       [ 0.21712899]])"
     },
     "execution_count": 178,
     "metadata": {},
     "output_type": "execute_result"
    }
   ],
   "source": [
    "yData"
   ],
   "metadata": {
    "collapsed": false,
    "pycharm": {
     "name": "#%%\n"
    }
   }
  },
  {
   "cell_type": "code",
   "execution_count": 179,
   "outputs": [],
   "source": [
    "from sklearn import datasets, linear_model\n",
    "from sklearn.metrics import mean_squared_error, r2_score"
   ],
   "metadata": {
    "collapsed": false,
    "pycharm": {
     "name": "#%%\n"
    }
   }
  },
  {
   "cell_type": "markdown",
   "source": [],
   "metadata": {
    "collapsed": false
   }
  },
  {
   "cell_type": "code",
   "execution_count": 180,
   "outputs": [
    {
     "data": {
      "text/plain": "0.07859341981322754"
     },
     "execution_count": 180,
     "metadata": {},
     "output_type": "execute_result"
    }
   ],
   "source": [
    "goodGoogModel = linear_model.LinearRegression()\n",
    "goodGoogModel.fit(xData,yData)\n",
    "goodGoogModel.score(xData,yData)"
   ],
   "metadata": {
    "collapsed": false,
    "pycharm": {
     "name": "#%%\n"
    }
   }
  },
  {
   "cell_type": "code",
   "execution_count": 181,
   "outputs": [
    {
     "data": {
      "text/plain": "array([[0.24567718]])"
     },
     "execution_count": 181,
     "metadata": {},
     "output_type": "execute_result"
    }
   ],
   "source": [
    "goodGoogModel.coef_"
   ],
   "metadata": {
    "collapsed": false,
    "pycharm": {
     "name": "#%%\n"
    }
   }
  },
  {
   "cell_type": "code",
   "execution_count": 182,
   "outputs": [
    {
     "data": {
      "text/plain": "array([0.00491072])"
     },
     "execution_count": 182,
     "metadata": {},
     "output_type": "execute_result"
    }
   ],
   "source": [
    "goodGoogModel.intercept_"
   ],
   "metadata": {
    "collapsed": false,
    "pycharm": {
     "name": "#%%\n"
    }
   }
  },
  {
   "cell_type": "code",
   "execution_count": 183,
   "outputs": [
    {
     "data": {
      "text/plain": "array([113.83499791])"
     },
     "execution_count": 183,
     "metadata": {},
     "output_type": "execute_result"
    }
   ],
   "source": [
    "goodGoogModel._residues"
   ],
   "metadata": {
    "collapsed": false,
    "pycharm": {
     "name": "#%%\n"
    }
   }
  },
  {
   "cell_type": "code",
   "execution_count": 184,
   "outputs": [
    {
     "data": {
      "text/plain": "<Figure size 432x288 with 1 Axes>",
      "image/png": "[encoded data removed]"
     },
     "metadata": {},
     "output_type": "display_data"
    }
   ],
   "source": [
    "\n",
    "import matplotlib.pyplot as plt\n",
    "\n",
    "plt.scatter(xData,yData, color=\"black\")\n",
    "plt.plot(xData,goodGoogModel.predict(xData),color=\"blue\", linewidth=3)\n",
    "\n",
    "plt.xticks(())\n",
    "plt.yticks(())\n",
    "plt.show()\n",
    "\n"
   ],
   "metadata": {
    "collapsed": false,
    "pycharm": {
     "name": "#%%\n"
    }
   }
  }
 ],
 "metadata": {
  "kernelspec": {
   "display_name": "Python 3",
   "language": "python",
   "name": "python3"
  },
  "language_info": {
   "codemirror_mode": {
    "name": "ipython",
    "version": 2
   },
   "file_extension": ".py",
   "mimetype": "text/x-python",
   "name": "python",
   "nbconvert_exporter": "python",
   "pygments_lexer": "ipython2",
   "version": "2.7.6"
  }
 },
 "nbformat": 4,
 "nbformat_minor": 0
}